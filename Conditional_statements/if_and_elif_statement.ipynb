{
 "cells": [
  {
   "cell_type": "markdown",
   "metadata": {},
   "source": [
    "## Camparsion Operator:\n",
    "\n",
    "--> Boolean Expresssion ask a question and produce a Yes or No result which wer use to control program flow.\n",
    "--> Boolean Expression using comparsion operators evaluate to True/False or Yes/No/\n",
    "--> Camparsion operators look at variables but do not change the variables.\n",
    "\n",
    "### Operator  :   Meaning\n",
    "    ==\t           Equal to\n",
    "    !=\t           Not equal to\n",
    "    >\t           Greater than\n",
    "    <\t           Less than\n",
    "    >=\t           Greater than or equal to\n",
    "    <=\t           Less than or equal to\n",
    "\n",
    " "
   ]
  },
  {
   "cell_type": "code",
   "execution_count": 1,
   "metadata": {},
   "outputs": [
    {
     "name": "stdout",
     "output_type": "stream",
     "text": [
      "5 is greater then 3\n"
     ]
    }
   ],
   "source": [
    "x = 5\n",
    "if x > 3:\n",
    "    print(f'{x} is greater then 3')\n",
    "else :\n",
    "    print('less')"
   ]
  },
  {
   "cell_type": "code",
   "execution_count": 2,
   "metadata": {},
   "outputs": [
    {
     "name": "stdout",
     "output_type": "stream",
     "text": [
      "Done with 2\n"
     ]
    }
   ],
   "source": [
    "x = 1\n",
    "for i in range(5):\n",
    "    if x > 2:\n",
    "        print('bigger then 2,')\n",
    "        print('still bigger')\n",
    "print('Done with 2')"
   ]
  },
  {
   "cell_type": "markdown",
   "metadata": {},
   "source": [
    "### elif Statement:"
   ]
  },
  {
   "cell_type": "code",
   "execution_count": 10,
   "metadata": {},
   "outputs": [
    {
     "name": "stdout",
     "output_type": "stream",
     "text": [
      "your marks is 84 Grade: A+\n"
     ]
    }
   ],
   "source": [
    "marks = int(input('Enter your marks: '))\n",
    "\n",
    "if marks <= 100:\n",
    "    print(f'your marks is {marks} Grade: A+')\n",
    "elif marks < 85:\n",
    "    print(f'your marks is {marks} Grade: A')\n",
    "elif marks <= 70:\n",
    "    print(f'your marks is {marks} Grade: B')\n",
    "elif marks <= 50:\n",
    "    print(f'your marks is {marks} Grade: C')\n",
    "elif marks < 50 :\n",
    "    print(f'Fail Try Next Year!')\n",
    "else:\n",
    "    print('you have Enter invalide marks. Please Enter the Correct marks')\n",
    "\n",
    "\n",
    "\n"
   ]
  }
 ],
 "metadata": {
  "kernelspec": {
   "display_name": "Python 3",
   "language": "python",
   "name": "python3"
  },
  "language_info": {
   "codemirror_mode": {
    "name": "ipython",
    "version": 3
   },
   "file_extension": ".py",
   "mimetype": "text/x-python",
   "name": "python",
   "nbconvert_exporter": "python",
   "pygments_lexer": "ipython3",
   "version": "3.11.4"
  }
 },
 "nbformat": 4,
 "nbformat_minor": 2
}
