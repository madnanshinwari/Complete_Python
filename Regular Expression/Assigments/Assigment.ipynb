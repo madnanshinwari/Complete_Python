{
 "cells": [
  {
   "cell_type": "code",
   "execution_count": 10,
   "metadata": {},
   "outputs": [
    {
     "name": "stdout",
     "output_type": "stream",
     "text": [
      "the sum of the total digitin file is : 401983\n"
     ]
    }
   ],
   "source": [
    "import re\n",
    "\n",
    "file_open = open('regex_sum_2169007.txt')\n",
    "read_file = file_open.read()\n",
    "get_digits = re.findall(r\"\\d+\", read_file)\n",
    "#print(get_digits)\n",
    "total_sum = sum(map(int, get_digits))\n",
    "print(\"the sum of the total digitin file is :\" ,total_sum)"
   ]
  }
 ],
 "metadata": {
  "kernelspec": {
   "display_name": "Python 3",
   "language": "python",
   "name": "python3"
  },
  "language_info": {
   "codemirror_mode": {
    "name": "ipython",
    "version": 3
   },
   "file_extension": ".py",
   "mimetype": "text/x-python",
   "name": "python",
   "nbconvert_exporter": "python",
   "pygments_lexer": "ipython3",
   "version": "3.13.2"
  }
 },
 "nbformat": 4,
 "nbformat_minor": 2
}
