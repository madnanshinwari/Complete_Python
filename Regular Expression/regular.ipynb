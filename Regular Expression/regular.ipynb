{
 "cells": [
  {
   "cell_type": "code",
   "execution_count": 17,
   "metadata": {},
   "outputs": [
    {
     "data": {
      "text/plain": [
       "'import re\\n\\ntext = \"Adnan  6 khan\"\\npattern = r\\'\\\\d+\\' # Matches one or more digits\\n\\nmatch = re.search(pattern, text)\\nif match:\\n    print(f\\'Found a number : {match.group()}\\')'"
      ]
     },
     "execution_count": 17,
     "metadata": {},
     "output_type": "execute_result"
    }
   ],
   "source": [
    "\"\"\"import re\n",
    "\n",
    "text = \"Adnan  6 khan\"\n",
    "pattern = r'\\d+' # Matches one or more digits\n",
    "\n",
    "match = re.search(pattern, text)\n",
    "if match:\n",
    "    print(f'Found a number : {match.group()}')\"\"\""
   ]
  },
  {
   "cell_type": "code",
   "execution_count": 19,
   "metadata": {},
   "outputs": [
    {
     "name": "stdout",
     "output_type": "stream",
     "text": [
      "<re.Match object; span=(66, 68), match='is'>\n"
     ]
    }
   ],
   "source": [
    "import re\n",
    "text = \"\"\"\n",
    "Neural networks, or artificial neural networks \n",
    "(ANNs), are comprised of node layers, containing an \n",
    "input layer, one or more hidden layers, and an output layer.\n",
    "Each node, or artificial neuron, connects to another and \n",
    "has an associated weight and threshold. If the output of \n",
    "any individual node is above the specified threshold value,\n",
    "that node is activated, sending data to the next layer of\n",
    "the network. Otherwise, no data is passed along to the\n",
    "next layer of the network by that node. The “deep”\n",
    "in deep learning is just referring to the number of layers in a neural network. \n",
    "A neural network that consists of more than three layers—which would be inclusive of \n",
    "the input and the output—can be considered a deep learning algorithm or a deep neural network. \n",
    "A neural network that only has \n",
    "three layers is just a basic neural network.\n",
    "\n",
    "\"\"\"\n",
    "pattern = \"is\" # search word\n",
    "\n",
    "match = re.search(pattern, text)\n",
    "print(match)\n"
   ]
  },
  {
   "cell_type": "code",
   "execution_count": 32,
   "metadata": {},
   "outputs": [
    {
     "name": "stdout",
     "output_type": "stream",
     "text": [
      "21\n"
     ]
    }
   ],
   "source": [
    "data = \"From adnanshinwari884@gmail.com  sat Feb 12 12:15:34 2025\"\n",
    "a = data.find('@')\n",
    "print(a)"
   ]
  }
 ],
 "metadata": {
  "kernelspec": {
   "display_name": "Python 3",
   "language": "python",
   "name": "python3"
  },
  "language_info": {
   "codemirror_mode": {
    "name": "ipython",
    "version": 3
   },
   "file_extension": ".py",
   "mimetype": "text/x-python",
   "name": "python",
   "nbconvert_exporter": "python",
   "pygments_lexer": "ipython3",
   "version": "3.11.4"
  }
 },
 "nbformat": 4,
 "nbformat_minor": 2
}
