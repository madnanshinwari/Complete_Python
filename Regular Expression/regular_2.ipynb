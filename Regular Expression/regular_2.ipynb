{
 "cells": [
  {
   "cell_type": "code",
   "execution_count": 14,
   "metadata": {},
   "outputs": [],
   "source": [
    "import re\n",
    "\n",
    "text = \"\"\"Hi! I am Muhammad Adnan Khan. I am 22 year old,\n",
    "I am Final year student of software engineering I belong to \n",
    "distict khyber, my expertise is python programming , Machine learning\n",
    "deep learning and computer vision.\n",
    "\"\"\""
   ]
  },
  {
   "cell_type": "code",
   "execution_count": null,
   "metadata": {},
   "outputs": [
    {
     "name": "stdout",
     "output_type": "stream",
     "text": [
      "['i', 'a', 'm', 'h', 'a', 'm', 'm', 'a', 'd', 'd', 'a', 'h', 'a', 'a', 'm', 'e', 'a', 'l', 'd', 'a', 'm', 'i', 'a', 'l', 'e', 'a', 'd', 'e', 'f', 'f', 'a', 'e', 'e', 'g', 'i', 'e', 'e', 'i', 'g', 'b', 'e', 'l', 'g', 'd', 'i', 'i', 'c', 'k', 'h', 'b', 'e', 'm', 'e', 'e', 'i', 'e', 'i', 'h', 'g', 'a', 'm', 'm', 'i', 'g', 'a', 'c', 'h', 'i', 'e', 'l', 'e', 'a', 'i', 'g', 'd', 'e', 'e', 'l', 'e', 'a', 'i', 'g', 'a', 'd', 'c', 'm', 'e', 'i', 'i']\n"
     ]
    }
   ],
   "source": [
    "# Find all lower case characters alphabetically between \"a\" and \"m\"\n",
    "x = re.findall(\"[a-m]\", text) \n",
    "print(x)\n"
   ]
  },
  {
   "cell_type": "code",
   "execution_count": null,
   "metadata": {},
   "outputs": [
    {
     "name": "stdout",
     "output_type": "stream",
     "text": [
      "['Muhammad']\n"
     ]
    }
   ],
   "source": [
    "# dot(.) --> character \n",
    "# Search for a sequence that starts with \"Mu\", followed by three (any) characters, and an \",mad\":\n",
    "y = re.findall('Mu...mad',text)\n",
    "print(y)"
   ]
  },
  {
   "cell_type": "code",
   "execution_count": null,
   "metadata": {},
   "outputs": [
    {
     "name": "stdout",
     "output_type": "stream",
     "text": [
      "yes, the string start with ['Hi!']\n"
     ]
    }
   ],
   "source": [
    "#  ^ --> character\n",
    "# Check if the string starts with 'Hi!':\n",
    "\n",
    "a = re.findall(\"^Hi!\", text)\n",
    "if a:\n",
    "    print(f\"yes, the string start with {a}\")\n",
    "else:\n",
    "    print(\"No Match\")"
   ]
  }
 ],
 "metadata": {
  "kernelspec": {
   "display_name": "Python 3",
   "language": "python",
   "name": "python3"
  },
  "language_info": {
   "codemirror_mode": {
    "name": "ipython",
    "version": 3
   },
   "file_extension": ".py",
   "mimetype": "text/x-python",
   "name": "python",
   "nbconvert_exporter": "python",
   "pygments_lexer": "ipython3",
   "version": "3.13.2"
  }
 },
 "nbformat": 4,
 "nbformat_minor": 2
}
