{
 "cells": [
  {
   "cell_type": "code",
   "execution_count": 7,
   "metadata": {},
   "outputs": [
    {
     "name": "stdout",
     "output_type": "stream",
     "text": [
      "Pay: 498.75\n"
     ]
    }
   ],
   "source": [
    "def computepay(hours, rate):\n",
    "    if hours > 40:\n",
    "        # Calculate pay for first 40 hours\n",
    "        regular_pay = rate * 40\n",
    "        # Calculate overtime pay for hours above 40\n",
    "        overtime_pay = (hours - 40) * (rate * 1.5)\n",
    "        total_pay = regular_pay + overtime_pay\n",
    "    else:\n",
    "        # Calculate pay for hours up to 40\n",
    "        total_pay = hours * rate\n",
    "    \n",
    "    return total_pay\n",
    "\n",
    "# Prompt the user for input\n",
    "hours = float(input(\"Enter hours worked: \"))\n",
    "rate = float(input(\"Enter rate per hour: \"))\n",
    "\n",
    "# Compute the pay using the function\n",
    "pay = computepay(hours, rate)\n",
    "\n",
    "# Display the computed pay\n",
    "print(\"Pay\", pay)"
   ]
  }
 ],
 "metadata": {
  "kernelspec": {
   "display_name": "Python 3",
   "language": "python",
   "name": "python3"
  },
  "language_info": {
   "codemirror_mode": {
    "name": "ipython",
    "version": 3
   },
   "file_extension": ".py",
   "mimetype": "text/x-python",
   "name": "python",
   "nbconvert_exporter": "python",
   "pygments_lexer": "ipython3",
   "version": "3.11.4"
  }
 },
 "nbformat": 4,
 "nbformat_minor": 2
}
